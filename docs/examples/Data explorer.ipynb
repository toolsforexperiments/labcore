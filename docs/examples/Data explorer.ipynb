{
 "cells": [
  {
   "cell_type": "code",
   "execution_count": null,
   "id": "3a82af0b-33ce-4165-9b3a-efc79ac7388f",
   "metadata": {},
   "outputs": [],
   "source": [
    "from datetime import datetime\n",
    "from pathlib import Path\n",
    "\n",
    "import panel as pn\n",
    "pn.extension()\n",
    "\n",
    "from labcore.analysis.hvapps import DataSelect\n",
    "from labcore.analysis.hvplotting import DDH5LoaderNode"
   ]
  },
  {
   "cell_type": "code",
   "execution_count": null,
   "id": "f937b714-20bf-4c44-9ee5-9feeb8c717e3",
   "metadata": {},
   "outputs": [],
   "source": [
    "ds = DataSelect('.')\n",
    "ds"
   ]
  },
  {
   "cell_type": "code",
   "execution_count": null,
   "id": "26050863-3226-46f6-8706-d10ee5d228bb",
   "metadata": {},
   "outputs": [],
   "source": [
    "loader = DDH5LoaderNode(ds.selected_path)\n",
    "app = pn.Column(\n",
    "    loader,\n",
    "    loader.plot,\n",
    ")\n",
    "app"
   ]
  },
  {
   "cell_type": "code",
   "execution_count": null,
   "id": "fc5f7754-140b-4712-9107-e9287bd90319",
   "metadata": {},
   "outputs": [],
   "source": []
  },
  {
   "cell_type": "code",
   "execution_count": null,
   "id": "a0e2c95d-5a45-4045-ad0e-7f986a2ca856",
   "metadata": {},
   "outputs": [],
   "source": [
    "\n"
   ]
  },
  {
   "cell_type": "code",
   "execution_count": null,
   "id": "80e1497c-d85d-4522-b157-744c96166c74",
   "metadata": {},
   "outputs": [],
   "source": []
  }
 ],
 "metadata": {
  "kernelspec": {
   "display_name": "Python 3 (ipykernel)",
   "language": "python",
   "name": "python3"
  },
  "language_info": {
   "codemirror_mode": {
    "name": "ipython",
    "version": 3
   },
   "file_extension": ".py",
   "mimetype": "text/x-python",
   "name": "python",
   "nbconvert_exporter": "python",
   "pygments_lexer": "ipython3",
   "version": "3.10.13"
  }
 },
 "nbformat": 4,
 "nbformat_minor": 5
}
