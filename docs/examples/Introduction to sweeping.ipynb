{
 "cells": [
  {
   "cell_type": "markdown",
   "metadata": {
    "Collapsed": "false"
   },
   "source": [
    "# Init"
   ]
  },
  {
   "cell_type": "code",
   "execution_count": 1,
   "metadata": {
    "Collapsed": "false"
   },
   "outputs": [],
   "source": [
    "# %load_ext autoreload\n",
    "# %autoreload 2"
   ]
  },
  {
   "cell_type": "code",
   "execution_count": 1,
   "metadata": {
    "Collapsed": "false"
   },
   "outputs": [],
   "source": [
    "from pprint import pprint\n",
    "import numpy as np\n",
    "import qcodes as qc\n",
    "\n",
    "from labcore.measurement import *"
   ]
  },
  {
   "cell_type": "markdown",
   "metadata": {
    "Collapsed": "false"
   },
   "source": [
    "# Intro"
   ]
  },
  {
   "cell_type": "markdown",
   "metadata": {
    "Collapsed": "false"
   },
   "source": [
    "The way we would like to measure looks something like this:\n",
    "\n",
    "```python\n",
    "    >>> m = Measurement(\n",
    "    ...     sweep_object,\n",
    "    ...     setup=setup_function,\n",
    "    ...     finish=teardown_function,\n",
    "    ... )\n",
    "    ... m.run(**config_options)\n",
    "```\n",
    "\n",
    "The reason why we would like to define the measurement in an object is to be able to have access to main characteristics (such as the type of data acquired during the run) in advance, before any measurement code is executed. This will also be useful for serializing measurements.\n",
    "\n",
    "The most tricky aspect here is to define what the ``sweep`` object is. Often we define the flow in an experiment by directly using for-loops and the like. But that will not allow us the desired goals. We need to come up with an object-based description that makes the essence of the flow clear without executing it."
   ]
  },
  {
   "cell_type": "markdown",
   "metadata": {
    "Collapsed": "false"
   },
   "source": [
    "## Main requirements for sweeps"
   ]
  },
  {
   "cell_type": "markdown",
   "metadata": {
    "Collapsed": "false"
   },
   "source": [
    "- a sweep object can be iterated over. each step performs some actions, and returns some data.\n",
    "  that means, we want to be able to use it as follows.  We call the dictionary that is produced for each step a **record**.\n",
    "  \n",
    "    ```python\n",
    "      >>> for data in sweep_object:\n",
    "      ...    print(data)\n",
    "      {variable_1: some_data, variable_2: more_data}\n",
    "      {variable_1: different_data, variable_2: more_different_data}\n",
    "    ```\n",
    " \n",
    "- a sweep object is defined by a pointer and 0 or more actions. \n",
    "    - A pointer is again an iterable, and the coordinates it traverses may or may not be known in advance. \n",
    "    - Actions are callables that may take the values the pointer is returning at each iteration as arguments. Each action is executed once for each pointer.\n",
    "  \n",
    "  A simple sweep can then be defined like this:\n",
    "    \n",
    "    ```python\n",
    "        >>> sweep_object = Sweep(range(5), func_1, func_2)\n",
    "        \n",
    "    ```\n",
    "  \n",
    "  Executing this sweep will loop over the range, and will then call ``func_1(i)`` and subsequently ``func_2(i)``, for each ``i`` in the range from 0 to 4.\n",
    "  \n",
    "  \n",
    "- Sweeps can be combined in ways that result in nesting, zipping, or appending. Combining sweeps again results in a sweep. This will allow us to construct modular measurements from pre-defined blocks.\n",
    "\n",
    "- After definition, but before execution, we can easily infer what records the sweep produces."
   ]
  },
  {
   "cell_type": "markdown",
   "metadata": {
    "Collapsed": "false"
   },
   "source": [
    "# Examples"
   ]
  },
  {
   "cell_type": "markdown",
   "metadata": {},
   "source": [
    "In the following first look a prototypical measurement protocol.\n",
    "After that we have a closer look at individual components."
   ]
  },
  {
   "cell_type": "markdown",
   "metadata": {},
   "source": [
    "## Jumping right in"
   ]
  },
  {
   "cell_type": "markdown",
   "metadata": {},
   "source": [
    "### A prototypical, slightly non-trivial measurement protocol"
   ]
  },
  {
   "cell_type": "markdown",
   "metadata": {},
   "source": [
    "Lets say we have the following task:\n",
    "\n",
    "1. our basic measurement is to record the phase as a function of frequency (for instance with a VNA)\n",
    "2. we do this as function of some other parameter that tunes something in the experiment (maybe a voltage)\n",
    "3. finally, we need to average out some slow noise, so we repeat everything some number of times\n",
    "4. the tuning might heat up the sample, so we want to keep an eye on it. We want to measure the fridge temperature once per repetition.\n",
    "\n",
    "Being good with organizing our tools and prefering a modular way of putting together measurements, we have already defined the main building blocks so we can re-use them. They might even be located in some module that import for a particular class of experiments. \n",
    "\n",
    "The functions that return data we want to save later are decorated with ``recording``, to describe what kind of data they produce. (Note: the decorator is not necessary; we can also use the function ``record_as``, as we'll see below)"
   ]
  },
  {
   "cell_type": "code",
   "execution_count": 2,
   "metadata": {},
   "outputs": [],
   "source": [
    "# these are just some dummy functions that follow the recipe outlined above.\n",
    "\n",
    "def tune_something(param):\n",
    "    print(f'adjusting something in-situ using param={param}')\n",
    "\n",
    "@recording(\n",
    "    independent('frq', type='array', unit='Hz'), \n",
    "    dependent('phase', depends_on=['frq'], type='array', unit='rad')\n",
    ")\n",
    "def measure_frequency_trace(npoints=3):\n",
    "    return np.arange(1,npoints+1)*1e6, np.random.normal(size=npoints)\n",
    "\n",
    "\n",
    "@recording(dependent('temperature', unit='K'))\n",
    "def measure_temperature():\n",
    "    return np.random.normal(loc=0.1, scale=0.01)"
   ]
  },
  {
   "cell_type": "markdown",
   "metadata": {},
   "source": [
    "We now use these functions to assemble the measurement loop. It works like this:\n",
    "\n",
    "- The matrix multiplication operator ``@`` creates a nested loop of sweeps (the outer loop are the repetitions, the inner loop the tuning of the parameter).\n",
    "- The multiplication operator ``*`` is like an inner product (or zip), i.e., results in element-wise combination. That is, for each value of ``param`` we run ``measure_frequency_trace``.\n",
    "- The addition operator ``+`` appends sweeps or actions to sweeps. I.e., ``measure_temperature`` is executed once after each ``param`` sweep.\n",
    "\n",
    "Finally, we can, even without running any measurement code, already look at the data that the loop will produce."
   ]
  },
  {
   "cell_type": "code",
   "execution_count": 3,
   "metadata": {},
   "outputs": [
    {
     "name": "stdout",
     "output_type": "stream",
     "text": [
      "(repetition, param, frq, phase(repetition, param, frq), temperature(repetition))\n",
      "\n"
     ]
    }
   ],
   "source": [
    "sweep = (\n",
    "    sweep_parameter('repetition', range(3))\n",
    "    @ (sweep_parameter('param', range(3), tune_something)\n",
    "       * measure_frequency_trace\n",
    "       + measure_temperature)\n",
    ")\n",
    "\n",
    "pprint(sweep.get_data_specs())\n",
    "print()"
   ]
  },
  {
   "cell_type": "markdown",
   "metadata": {},
   "source": [
    "Running the sweep is very easy -- we can simply iterate over it. Each sweep coordinate produces a data set that by default contains everything that has been annotated as recording data (the ``sweep_parameter`` function implicitly generates a record for the parameter that is being varied)."
   ]
  },
  {
   "cell_type": "code",
   "execution_count": 4,
   "metadata": {},
   "outputs": [
    {
     "name": "stdout",
     "output_type": "stream",
     "text": [
      "adjusting something in-situ using param=0\n",
      "{'repetition': 0, 'param': 0, 'frq': array([1000000., 2000000., 3000000.]), 'phase': array([ 0.89408564, -1.78220988, -0.03659925]), 'temperature': None}\n",
      "adjusting something in-situ using param=1\n",
      "{'repetition': 0, 'param': 1, 'frq': array([1000000., 2000000., 3000000.]), 'phase': array([ 2.03131721,  0.40310144, -1.1691722 ]), 'temperature': None}\n",
      "adjusting something in-situ using param=2\n",
      "{'repetition': 0, 'param': 2, 'frq': array([1000000., 2000000., 3000000.]), 'phase': array([ 0.39590923, -0.74580651, -0.48511114]), 'temperature': None}\n",
      "{'repetition': 0, 'param': None, 'frq': None, 'phase': None, 'temperature': 0.1269433488426204}\n",
      "adjusting something in-situ using param=0\n",
      "{'repetition': 1, 'param': 0, 'frq': array([1000000., 2000000., 3000000.]), 'phase': array([ 0.7951673 ,  0.74914095, -0.12481228]), 'temperature': None}\n",
      "adjusting something in-situ using param=1\n",
      "{'repetition': 1, 'param': 1, 'frq': array([1000000., 2000000., 3000000.]), 'phase': array([ 0.72542661, -0.07237564,  0.20433795]), 'temperature': None}\n",
      "adjusting something in-situ using param=2\n",
      "{'repetition': 1, 'param': 2, 'frq': array([1000000., 2000000., 3000000.]), 'phase': array([ 1.68295933,  0.44069152, -2.13190624]), 'temperature': None}\n",
      "{'repetition': 1, 'param': None, 'frq': None, 'phase': None, 'temperature': 0.09588440739380934}\n",
      "adjusting something in-situ using param=0\n",
      "{'repetition': 2, 'param': 0, 'frq': array([1000000., 2000000., 3000000.]), 'phase': array([ 0.30728013, -0.57762722, -1.49087012]), 'temperature': None}\n",
      "adjusting something in-situ using param=1\n",
      "{'repetition': 2, 'param': 1, 'frq': array([1000000., 2000000., 3000000.]), 'phase': array([ 0.9391771 , -0.1194195 , -0.93337162]), 'temperature': None}\n",
      "adjusting something in-situ using param=2\n",
      "{'repetition': 2, 'param': 2, 'frq': array([1000000., 2000000., 3000000.]), 'phase': array([ 0.10980382, -0.46763241,  1.62517513]), 'temperature': None}\n",
      "{'repetition': 2, 'param': None, 'frq': None, 'phase': None, 'temperature': 0.12279970580903614}\n"
     ]
    }
   ],
   "source": [
    "for data in sweep:\n",
    "    print(data)"
   ]
  },
  {
   "cell_type": "markdown",
   "metadata": {},
   "source": [
    "### A QCoDeS parameter sweep"
   ]
  },
  {
   "cell_type": "markdown",
   "metadata": {},
   "source": [
    "Sweeps are often done over qcodes parameters, and the data we acquire may also come from parameters.\n",
    "\n",
    "In this minimal example we set a parameter (``x``) to a range of values, and get data from another parameter for each set value."
   ]
  },
  {
   "cell_type": "code",
   "execution_count": 5,
   "metadata": {},
   "outputs": [
    {
     "name": "stdout",
     "output_type": "stream",
     "text": [
      "setting x to 0\n",
      "setting x to 0\n",
      "{'x': 0, 'data': -0.7198138975798806}\n",
      "setting x to 1\n",
      "{'x': 1, 'data': -0.012136113084703805}\n",
      "setting x to 2\n",
      "{'x': 2, 'data': 0.7356664798447984}\n"
     ]
    }
   ],
   "source": [
    "from qcodes import Parameter\n",
    "\n",
    "def measure_stuff():\n",
    "    return np.random.normal()\n",
    "\n",
    "x = Parameter('x', set_cmd=lambda x: print(f'setting x to {x}'), initial_value=0)\n",
    "data = Parameter('data', get_cmd=lambda: np.random.normal())\n",
    "\n",
    "for record in sweep_parameter(x, range(3), get_parameter(data)):\n",
    "    print(record)"
   ]
  },
  {
   "cell_type": "markdown",
   "metadata": {},
   "source": [
    "## Constructing single sweeps"
   ]
  },
  {
   "cell_type": "markdown",
   "metadata": {},
   "source": [
    "The main ingredients for a single sweep is 1) a pointer iterable, and 2) a variable number of actions to execute at each iteration step.\n",
    "Both pointer and actions may generate records.\n",
    "\n",
    "The most bare example would look something like this:"
   ]
  },
  {
   "cell_type": "code",
   "execution_count": 6,
   "metadata": {},
   "outputs": [
    {
     "name": "stdout",
     "output_type": "stream",
     "text": [
      "{}\n",
      "{}\n",
      "{}\n"
     ]
    }
   ],
   "source": [
    "for data in Sweep(range(3)):\n",
    "    print(data)"
   ]
  },
  {
   "cell_type": "markdown",
   "metadata": {},
   "source": [
    "We loop over the iterable, but only empty records are generated.\n",
    "\n",
    "We can use ``record_as`` to indicate that generated values should be recorded:"
   ]
  },
  {
   "cell_type": "code",
   "execution_count": 7,
   "metadata": {},
   "outputs": [
    {
     "name": "stdout",
     "output_type": "stream",
     "text": [
      "(x, y(x))\n",
      "{'x': 0, 'y': 0}\n",
      "{'x': 1, 'y': 0}\n",
      "{'x': 2, 'y': 0}\n"
     ]
    }
   ],
   "source": [
    "def my_func():\n",
    "    return 0\n",
    "\n",
    "sweep = Sweep(\n",
    "    record_as(range(3), independent('x')), # this is the pointer. We specify 'x' as an independent (we control it)\n",
    "    record_as(my_func, 'y') # y is not declared as independent; \n",
    "                            # dependent (on what it depends is partially determined by the sweep) is the default.\n",
    ")\n",
    "\n",
    "pprint(sweep.get_data_specs())\n",
    "\n",
    "for data in sweep:\n",
    "    print(data)"
   ]
  },
  {
   "cell_type": "markdown",
   "metadata": {},
   "source": [
    "A more convenient way of doing exactly the same thing:"
   ]
  },
  {
   "cell_type": "code",
   "execution_count": 8,
   "metadata": {},
   "outputs": [
    {
     "name": "stdout",
     "output_type": "stream",
     "text": [
      "{'x': 0, 'y': 0}\n",
      "{'x': 1, 'y': 0}\n",
      "{'x': 2, 'y': 0}\n"
     ]
    }
   ],
   "source": [
    "sweep = sweep_parameter('x', range(3), record_as(my_func, 'y'))\n",
    "\n",
    "for data in sweep:\n",
    "    print(data)"
   ]
  },
  {
   "cell_type": "markdown",
   "metadata": {},
   "source": [
    "Elements can also produce records with multiple parameters:"
   ]
  },
  {
   "cell_type": "code",
   "execution_count": 9,
   "metadata": {},
   "outputs": [
    {
     "name": "stdout",
     "output_type": "stream",
     "text": [
      "(number, string, one(number, string), two(number, string))\n",
      "{'number': 0, 'string': 'a', 'one': 1, 'two': 2}\n",
      "{'number': 1, 'string': 'b', 'one': 1, 'two': 2}\n",
      "{'number': 2, 'string': 'c', 'one': 1, 'two': 2}\n"
     ]
    }
   ],
   "source": [
    "def my_func():\n",
    "    return 1, 2\n",
    "\n",
    "sweep = Sweep(\n",
    "    record_as(zip(range(3), ['a', 'b', 'c']), independent('number'), independent('string')), # a pointer with two parameters\n",
    "    record_as(my_func, 'one', 'two')\n",
    ")\n",
    "\n",
    "pprint(sweep.get_data_specs())\n",
    "\n",
    "for data in sweep:\n",
    "    print(data)"
   ]
  },
  {
   "cell_type": "code",
   "execution_count": null,
   "metadata": {},
   "outputs": [],
   "source": []
  },
  {
   "cell_type": "markdown",
   "metadata": {},
   "source": [
    "## Specifying options before executing a sweep"
   ]
  },
  {
   "cell_type": "markdown",
   "metadata": {},
   "source": [
    "Many functions we are using take optional parameters we only want to specify just before executing the sweep (but are constant throughout the sweep). \n",
    "\n",
    "If we don't want to resort to global variables we can do so by using ``Sweep.set_action_opts``. \n",
    "It accepts the names of action functions as keywords, and dictionaries containing keyword arguments to pass to those functions as value.\n",
    "Keywords specified in this way always override key words that are passed around internally in the sweep (See further below for an explanation on how parameters are passed internally). "
   ]
  },
  {
   "cell_type": "code",
   "execution_count": 30,
   "metadata": {},
   "outputs": [
    {
     "name": "stdout",
     "output_type": "stream",
     "text": [
      "inside test_fun:\n",
      "value: 0, property: 1\n",
      "\n",
      "inside another_fun:\n",
      "my value: Hello\n",
      "other stuff: () {'value': 0, 'data': 0, 'another_property': True}\n",
      "\n",
      "Data: {'value': 0, 'data': 0, 'another_value': 0}\n",
      "\n",
      "inside another_fun:\n",
      "my value: Hello\n",
      "other stuff: () {'value': 0, 'data': 0, 'another_property': True}\n",
      "\n",
      "Data: {'value': 0, 'data': 0, 'another_value': 1}\n",
      "\n",
      "inside test_fun:\n",
      "value: 1, property: 1\n",
      "\n",
      "inside another_fun:\n",
      "my value: Hello\n",
      "other stuff: () {'value': 1, 'data': 1, 'another_property': True}\n",
      "\n",
      "Data: {'value': 1, 'data': 1, 'another_value': 0}\n",
      "\n",
      "inside another_fun:\n",
      "my value: Hello\n",
      "other stuff: () {'value': 1, 'data': 1, 'another_property': True}\n",
      "\n",
      "Data: {'value': 1, 'data': 1, 'another_value': 1}\n",
      "\n",
      "inside test_fun:\n",
      "value: 2, property: 1\n",
      "\n",
      "inside another_fun:\n",
      "my value: Hello\n",
      "other stuff: () {'value': 2, 'data': 2, 'another_property': True}\n",
      "\n",
      "Data: {'value': 2, 'data': 2, 'another_value': 0}\n",
      "\n",
      "inside another_fun:\n",
      "my value: Hello\n",
      "other stuff: () {'value': 2, 'data': 2, 'another_property': True}\n",
      "\n",
      "Data: {'value': 2, 'data': 2, 'another_value': 1}\n",
      "\n"
     ]
    }
   ],
   "source": [
    "def test_fun(value, a_property=0):\n",
    "    print('inside test_fun:')\n",
    "    print(f\"value: {value}, property: {a_property}\")\n",
    "    print()\n",
    "    return value\n",
    "\n",
    "def another_fun(another_value, *args, **kwargs):\n",
    "    print('inside another_fun:')\n",
    "    print(f\"my value: {another_value}\")\n",
    "    print(f\"other stuff:\", args, kwargs)\n",
    "    print()\n",
    "\n",
    "sweep_1 = sweep_parameter('value', range(3), record_as(test_fun, dependent('data')))\n",
    "sweep_2 = sweep_parameter('another_value', range(2), another_fun)\n",
    "\n",
    "sweep = (\n",
    "    sweep_1\n",
    "    @ sweep_2\n",
    ")\n",
    "\n",
    "sweep.set_options(\n",
    "    test_fun = dict(a_property=1),\n",
    "    another_fun = dict(another_value='Hello', another_property=True)\n",
    ")\n",
    "\n",
    "for data in sweep:\n",
    "    print(\"Data:\", data)\n",
    "    print()"
   ]
  },
  {
   "cell_type": "markdown",
   "metadata": {},
   "source": [
    "## Appending"
   ]
  },
  {
   "cell_type": "markdown",
   "metadata": {},
   "source": [
    "A simple example for how to append sweeps to each other. \n",
    "The `sweep_parameter` function creates a 1D sweep over a parameter that we can specify just with a name. It will automatically result in a returned record with that name when it is set.\n",
    "\n",
    "We create two sweeps that consist of a parameter sweep and an action that returns a random number as dependent variable. \n",
    "The sweep parameter will automatically be inserted as a dependency in that case.\n",
    "Here, the annotation of the return data is done using ``record_as``. This allows us to use the same function twice with different return data names.\n",
    "\n",
    "We finally attach another function call to the sweep. It is executed only once at the very end (internally it's made into a 'null sweep'). It is also not annotated at all, so won't record any data.\n",
    "\n",
    "Note: ``Sweep.return_none`` controls whether we include data fields that have returned nothing during setting a pointer or executing an action. It can be set on the class or the instance of a particular sweep.\n",
    "Setting it to true (the default) guarantees that each data spec of the sweep has an entry per sweep point, even if it is ``None``."
   ]
  },
  {
   "cell_type": "code",
   "execution_count": 11,
   "metadata": {},
   "outputs": [
    {
     "name": "stdout",
     "output_type": "stream",
     "text": [
      "{'x': 0, 'y': 0.9687729205561979}\n",
      "{'x': 1, 'y': 0.4434610036271559}\n",
      "{'x': 2, 'y': 0.7991319563194824}\n",
      "{'a': 0, 'b': 0.7989985780105594}\n",
      "{'a': 1, 'b': 0.9542764680604046}\n",
      "{'a': 2, 'b': 0.016014756874430325}\n",
      "{'a': 3, 'b': 0.5827642622420539}\n",
      "rolling the dice!\n",
      "{}\n"
     ]
    }
   ],
   "source": [
    "def get_random_number():\n",
    "    return np.random.rand()\n",
    "\n",
    "def get_another_random_number():\n",
    "    print('rolling the dice!')\n",
    "    return np.random.rand()\n",
    "\n",
    "\n",
    "# change this to see what happens.\n",
    "Sweep.record_none = False\n",
    "\n",
    "sweep_1 = sweep_parameter('x', range(3), record_as(get_random_number, dependent('y')))\n",
    "sweep_2 = sweep_parameter('a', range(4), record_as(get_random_number, dependent('b')))\n",
    "\n",
    "for data in sweep_1 + sweep_2 + get_another_random_number:\n",
    "    print(data)\n",
    "    \n",
    "# just to set it back for the other examples\n",
    "Sweep.record_none = True"
   ]
  },
  {
   "cell_type": "markdown",
   "metadata": {},
   "source": [
    "## Multiplying"
   ]
  },
  {
   "cell_type": "markdown",
   "metadata": {},
   "source": [
    "By multiplying we refer to an inner product, i.e., the result is basically what you'd expect from ``zip``-ing two iterables.\n",
    "\n",
    "Simplest case: we have a sweep and want to attach another action to each sweep point:"
   ]
  },
  {
   "cell_type": "code",
   "execution_count": 12,
   "metadata": {},
   "outputs": [
    {
     "name": "stdout",
     "output_type": "stream",
     "text": [
      "(x, data_1(x), data_2(x))\n",
      "\n",
      "{'x': 0, 'data_1': 0.9369037617368199, 'data_2': 0.5595742250611065}\n",
      "{'x': 1, 'data_1': 0.06516845680757466, 'data_2': 0.9516372937866395}\n",
      "{'x': 2, 'data_1': 0.34547840652874906, 'data_2': 0.4447657956353076}\n"
     ]
    }
   ],
   "source": [
    "sweep = (\n",
    "    sweep_parameter('x', range(3), record_as(get_random_number, dependent('data_1')))\n",
    "    * record_as(get_random_number, dependent('data_2'))\n",
    ")\n",
    "\n",
    "pprint(sweep.get_data_specs())\n",
    "print()\n",
    "\n",
    "for data in sweep:\n",
    "    print(data)"
   ]
  },
  {
   "cell_type": "markdown",
   "metadata": {},
   "source": [
    "If the two objects we want to combine are both sweeps, then we get zip-like behavior (and dependencies stay separate)."
   ]
  },
  {
   "cell_type": "code",
   "execution_count": 13,
   "metadata": {},
   "outputs": [
    {
     "name": "stdout",
     "output_type": "stream",
     "text": [
      "(x, data_1(x), y, data_2(y))\n",
      "\n",
      "{'x': 0, 'data_1': 0.6517601377057347, 'y': 0, 'data_2': 0.015530741822005312}\n",
      "{'x': 1, 'data_1': 0.9097117607352513, 'y': 1, 'data_2': 0.7423884916639105}\n",
      "{'x': 2, 'data_1': 0.40946649898624865, 'y': 2, 'data_2': 0.9181472371035658}\n"
     ]
    }
   ],
   "source": [
    "sweep = (\n",
    "    sweep_parameter('x', range(3), record_as(get_random_number, dependent('data_1')))\n",
    "    * sweep_parameter('y', range(5), record_as(get_random_number, dependent('data_2')))\n",
    ")\n",
    "\n",
    "pprint(sweep.get_data_specs())\n",
    "print()\n",
    "\n",
    "for data in sweep:\n",
    "    print(data)"
   ]
  },
  {
   "cell_type": "markdown",
   "metadata": {},
   "source": [
    "## Nesting sweeps"
   ]
  },
  {
   "cell_type": "markdown",
   "metadata": {},
   "source": [
    "The most simple example:\n",
    "\n",
    "Sweep parameters (say, 'x', 'y', and 'z') against each other, and perform a measurement at each point.\n",
    "For syntactic brevity we're using the matrix multiplication ('@') operator for nesting (you can also use ``labcore.measurement.sweep.nest_sweeps``)."
   ]
  },
  {
   "cell_type": "code",
   "execution_count": 14,
   "metadata": {},
   "outputs": [
    {
     "name": "stdout",
     "output_type": "stream",
     "text": [
      "{'x': 0, 'y': 0.0, 'z': -5, 'my_data': 0.47353193015484174}\n",
      "{'x': 0, 'y': 0.0, 'z': -4, 'my_data': 0.40909548872169266}\n",
      "{'x': 0, 'y': 0.0, 'z': -3, 'my_data': 0.2887164655738411}\n",
      "{'x': 0, 'y': 0.5, 'z': -5, 'my_data': 0.22061258119580063}\n",
      "{'x': 0, 'y': 0.5, 'z': -4, 'my_data': 0.6509422045598774}\n",
      "{'x': 0, 'y': 0.5, 'z': -3, 'my_data': 0.045451454297620986}\n",
      "{'x': 0, 'y': 1.0, 'z': -5, 'my_data': 0.45433695172994093}\n",
      "{'x': 0, 'y': 1.0, 'z': -4, 'my_data': 0.9701096584234756}\n",
      "{'x': 0, 'y': 1.0, 'z': -3, 'my_data': 0.8099880589060339}\n",
      "{'x': 1, 'y': 0.0, 'z': -5, 'my_data': 0.90471234702373}\n",
      "{'x': 1, 'y': 0.0, 'z': -4, 'my_data': 0.4098835565833152}\n",
      "{'x': 1, 'y': 0.0, 'z': -3, 'my_data': 0.5401028037551512}\n",
      "{'x': 1, 'y': 0.5, 'z': -5, 'my_data': 0.42093875192378905}\n",
      "{'x': 1, 'y': 0.5, 'z': -4, 'my_data': 0.35074624010110955}\n",
      "{'x': 1, 'y': 0.5, 'z': -3, 'my_data': 0.20451480949590906}\n",
      "{'x': 1, 'y': 1.0, 'z': -5, 'my_data': 0.9761882331945407}\n",
      "{'x': 1, 'y': 1.0, 'z': -4, 'my_data': 0.9084876764306075}\n",
      "{'x': 1, 'y': 1.0, 'z': -3, 'my_data': 0.07699555004515124}\n",
      "{'x': 2, 'y': 0.0, 'z': -5, 'my_data': 0.8068526683340999}\n",
      "{'x': 2, 'y': 0.0, 'z': -4, 'my_data': 0.20795196032405305}\n",
      "{'x': 2, 'y': 0.0, 'z': -3, 'my_data': 0.27873785786468197}\n",
      "{'x': 2, 'y': 0.5, 'z': -5, 'my_data': 0.9547886815867028}\n",
      "{'x': 2, 'y': 0.5, 'z': -4, 'my_data': 0.3428051725706732}\n",
      "{'x': 2, 'y': 0.5, 'z': -3, 'my_data': 0.1381437598605173}\n",
      "{'x': 2, 'y': 1.0, 'z': -5, 'my_data': 0.6873739735255319}\n",
      "{'x': 2, 'y': 1.0, 'z': -4, 'my_data': 0.33974736653496396}\n",
      "{'x': 2, 'y': 1.0, 'z': -3, 'my_data': 0.7680863529816836}\n"
     ]
    }
   ],
   "source": [
    "@recording(dependent('my_data'))\n",
    "def measure_something():\n",
    "    return np.random.rand()\n",
    "\n",
    "my_sweep = (\n",
    "    sweep_parameter('x', range(3)) \n",
    "    @ sweep_parameter('y', np.linspace(0,1,3))\n",
    "    @ sweep_parameter('z', range(-5, -2))\n",
    "    @ measure_something\n",
    ")\n",
    "\n",
    "for data in my_sweep:\n",
    "    print(data)"
   ]
  },
  {
   "cell_type": "markdown",
   "metadata": {},
   "source": [
    "The outer loops can be more complex sweeps as well -- for example, we can also execute measurements on each nesting level."
   ]
  },
  {
   "cell_type": "code",
   "execution_count": 15,
   "metadata": {},
   "outputs": [
    {
     "name": "stdout",
     "output_type": "stream",
     "text": [
      "{'x': 0, 'a': 0.14798648471552067, 'y': 0, 'b': 0.85181779143027, 'more_data': 0.04760130402551599}\n",
      "{'x': 0, 'a': 0.14798648471552067, 'y': 1, 'b': 0.6936892585093728, 'more_data': 0.3022591474797921}\n",
      "{'x': 0, 'a': 0.14798648471552067, 'y': 2, 'b': 0.5703084895756598, 'more_data': 0.306778684213204}\n",
      "{'x': 0, 'a': 0.14798648471552067, 'y': 3, 'b': 0.48382890498908726, 'more_data': 0.8693224030983092}\n",
      "{'x': 1, 'a': 0.43161622927739274, 'y': 0, 'b': 0.29284100013745995, 'more_data': 0.029904832942683646}\n",
      "{'x': 1, 'a': 0.43161622927739274, 'y': 1, 'b': 0.6155091075616117, 'more_data': 0.9386751305041878}\n",
      "{'x': 1, 'a': 0.43161622927739274, 'y': 2, 'b': 0.02910600115117823, 'more_data': 0.4508315971185247}\n",
      "{'x': 1, 'a': 0.43161622927739274, 'y': 3, 'b': 0.7310670947737475, 'more_data': 0.5215169146689735}\n",
      "{'x': 2, 'a': 0.4025748067429352, 'y': 0, 'b': 0.09713497018638206, 'more_data': 0.02374119489672022}\n",
      "{'x': 2, 'a': 0.4025748067429352, 'y': 1, 'b': 0.13888810375672433, 'more_data': 0.9239587154375959}\n",
      "{'x': 2, 'a': 0.4025748067429352, 'y': 2, 'b': 0.04421346905020085, 'more_data': 0.41418277108350077}\n",
      "{'x': 2, 'a': 0.4025748067429352, 'y': 3, 'b': 0.8246263996276458, 'more_data': 0.7581821041086125}\n"
     ]
    }
   ],
   "source": [
    "def measure_something():\n",
    "    return np.random.rand()\n",
    "\n",
    "sweep_1 = sweep_parameter('x', range(3), record_as(measure_something, 'a'))\n",
    "sweep_2 = sweep_parameter('y', range(4), record_as(measure_something, 'b'))\n",
    "\n",
    "for data in sweep_1 @ sweep_2 @ record_as(get_random_number, 'more_data'):\n",
    "    print(data)"
   ]
  },
  {
   "cell_type": "markdown",
   "metadata": {},
   "source": [
    "## Combining operators and more complex constructs"
   ]
  },
  {
   "cell_type": "markdown",
   "metadata": {},
   "source": [
    "A not uncommon task in quantum circuits:\n",
    "\n",
    "1. sweep some parameter. We're interested in some response of the system on this parameter.\n",
    "2. Hovewer, changing this parameter changes an operation point of our sample. To deal with this we need to perform an auxiliary measurement, and based on its result we set some other parameter. (A familiar case: we increase a drive power that is expected to have some effect on a qubit. But after changing the power we need to first find the readout resonator frequency because of the changed Stark shift.)\n",
    "3. After this 'calibration step' we can now measure the response we're actually looking for.\n",
    "\n",
    "Further, we want to record not only the data that is taken in the last step, but also the calibration data.\n",
    "\n",
    "All together this leads us to a measurement structure as below. As before, the building blocks are modular and relatively self-contained, and might be part of some package.\n",
    "\n",
    "The data this will produce is two records per sweep parameter (``x``, creatively): one that contains the calibration measurement and result, and one for the actual measurement."
   ]
  },
  {
   "cell_type": "code",
   "execution_count": 16,
   "metadata": {},
   "outputs": [
    {
     "name": "stdout",
     "output_type": "stream",
     "text": [
      "{'probe_frequency': None,\n",
      " 'probe_response': None,\n",
      " 'readout_point': 9.902716831014812,\n",
      " 'readout_probe_points': array([0. , 0.5, 1. ]),\n",
      " 'readout_probe_response': array([ 4.18671719, -0.64338861,  9.90271683]),\n",
      " 'x': 0}\n",
      "setting the readout point to 9.902716831014812\n",
      "{'probe_frequency': array([10, 11, 12]),\n",
      " 'probe_response': array([ 8.50247593,  9.33888991, 11.44649896]),\n",
      " 'readout_point': None,\n",
      " 'readout_probe_points': None,\n",
      " 'readout_probe_response': None,\n",
      " 'x': 0}\n",
      "{'probe_frequency': None,\n",
      " 'probe_response': None,\n",
      " 'readout_point': 9.152387414440057,\n",
      " 'readout_probe_points': array([0. , 0.5, 1. ]),\n",
      " 'readout_probe_response': array([ -1.38415022,   9.15238741, -23.15551414]),\n",
      " 'x': 1}\n",
      "setting the readout point to 9.152387414440057\n",
      "{'probe_frequency': array([10, 11, 12]),\n",
      " 'probe_response': array([9.55336264, 9.91959456, 8.41813702]),\n",
      " 'readout_point': None,\n",
      " 'readout_probe_points': None,\n",
      " 'readout_probe_response': None,\n",
      " 'x': 1}\n",
      "{'probe_frequency': None,\n",
      " 'probe_response': None,\n",
      " 'readout_point': 11.221415238459393,\n",
      " 'readout_probe_points': array([0. , 0.5, 1. ]),\n",
      " 'readout_probe_response': array([11.22141524,  4.30442778,  9.18277042]),\n",
      " 'x': 2}\n",
      "setting the readout point to 11.221415238459393\n",
      "{'probe_frequency': array([10, 11, 12]),\n",
      " 'probe_response': array([10.71310701, 10.29105064, 11.82850645]),\n",
      " 'readout_point': None,\n",
      " 'readout_probe_points': None,\n",
      " 'readout_probe_response': None,\n",
      " 'x': 2}\n"
     ]
    }
   ],
   "source": [
    "@recording(\n",
    "    independent('readout_probe_points', type='array'),\n",
    "    dependent('readout_probe_response', type='array', depends_on=['readout_probe_points']),\n",
    "    dependent('readout_point')  # note: we don't make this dependent on readout_probe_points\n",
    ")\n",
    "def calibrate_readout():\n",
    "    \"\"\"An example for a readout calibration.\"\"\"\n",
    "    pts = np.linspace(0, 1, 3)\n",
    "    response = np.random.normal(size=3, scale=10)\n",
    "    result = response.max()  # some analysis of the calibration measurement\n",
    "    return pts, response, result\n",
    "    \n",
    "\n",
    "def set_operation_point(value):\n",
    "    print(f'setting the readout point to {value}')\n",
    "    \n",
    "\n",
    "# the actual measurement function accepts the argument `readout_point` which will be passed from the calibration.\n",
    "@recording(\n",
    "    independent('probe_frequency', type='array'),\n",
    "    dependent('probe_response', type='array', depends_on=['probe_frequency']),\n",
    ")\n",
    "def perform_measurement(readout_point):\n",
    "    set_operation_point(readout_point)\n",
    "    return np.arange(3)+10, np.random.normal(size=3, loc=readout_point)\n",
    "\n",
    "# because of the way brackets are set here, we need to make a sweep out of the calibrate_readout \n",
    "# function. this is easily done with the 'once' function, which creates a length-1 sweep with no additional \n",
    "# return data.\n",
    "sweep = (\n",
    "    sweep_parameter('x', range(3))\n",
    "    @ (once(calibrate_readout) + perform_measurement)\n",
    ")\n",
    "\n",
    "for data in sweep:\n",
    "    pprint(data)"
   ]
  },
  {
   "cell_type": "code",
   "execution_count": 17,
   "metadata": {},
   "outputs": [
    {
     "name": "stdout",
     "output_type": "stream",
     "text": [
      "(x,\n",
      " readout_probe_points,\n",
      " readout_probe_response(x, readout_probe_points),\n",
      " readout_point(x),\n",
      " probe_frequency,\n",
      " probe_response(x, probe_frequency))\n"
     ]
    }
   ],
   "source": [
    "pprint(sweep.get_data_specs())"
   ]
  },
  {
   "cell_type": "markdown",
   "metadata": {},
   "source": [
    "# Looking a bit deeper"
   ]
  },
  {
   "cell_type": "markdown",
   "metadata": {
    "Collapsed": "false"
   },
   "source": [
    "## Annotating objects for recording"
   ]
  },
  {
   "cell_type": "markdown",
   "metadata": {},
   "source": [
    "These are just some snippets that show how we can annotate records and what the results are.\n",
    "\n",
    "Without record annotations sweeps still are executed, but no data is recorded:"
   ]
  },
  {
   "cell_type": "code",
   "execution_count": 18,
   "metadata": {},
   "outputs": [
    {
     "name": "stdout",
     "output_type": "stream",
     "text": [
      "{}\n",
      "{}\n",
      "{}\n"
     ]
    }
   ],
   "source": [
    "sweep_object = Sweep(range(3), lambda x: np.random.normal(size=x))\n",
    "for data in sweep_object:\n",
    "    print(data)"
   ]
  },
  {
   "cell_type": "markdown",
   "metadata": {},
   "source": [
    "The underlying object we use for declaring data returns is ``DataSpec``. ``ds`` is just a shortcut that points to its constructor. \n",
    "\n",
    "``independent`` (or ``indep``) is creates a DataSpec with ``depends_on=None``, and ``dependent`` creates a DataSpec with ``depends_on=[]``. If ``depends_on`` is ``None``, it will remain independent even when the annotated object is embedded in larger structures. If it is `[]` then more dependencies are added automatically."
   ]
  },
  {
   "cell_type": "code",
   "execution_count": 19,
   "metadata": {
    "Collapsed": "false"
   },
   "outputs": [
    {
     "data": {
      "text/plain": [
       "({'x': 1, 'y': array([1.13945709])}, {'a': 1})"
      ]
     },
     "execution_count": 19,
     "metadata": {},
     "output_type": "execute_result"
    }
   ],
   "source": [
    "# defining some example measurement functions without short-hand notations\n",
    "\n",
    "@recording(DataSpec('x'), DataSpec('y', depends_on=['x'], type='array'))\n",
    "def measure_stuff(n, *args, **kwargs):\n",
    "    return n, np.random.normal(size=n)\n",
    "\n",
    "@recording(ds('a'))\n",
    "def set_stuff(x, *args, **kwargs):\n",
    "    return x\n",
    "\n",
    "measure_stuff(1), set_stuff(1)"
   ]
  },
  {
   "cell_type": "markdown",
   "metadata": {},
   "source": [
    "Generators can also be annotated to produce data."
   ]
  },
  {
   "cell_type": "code",
   "execution_count": 20,
   "metadata": {
    "Collapsed": "false"
   },
   "outputs": [
    {
     "name": "stdout",
     "output_type": "stream",
     "text": [
      "{'a': 0}\n",
      "{'a': 1}\n",
      "{'a': 2}\n"
     ]
    }
   ],
   "source": [
    "@recording(ds('a'))\n",
    "def make_sequence(n):\n",
    "    for i in range(n):\n",
    "        yield i\n",
    "        \n",
    "for data in make_sequence(3):\n",
    "    print(data)"
   ]
  },
  {
   "cell_type": "markdown",
   "metadata": {},
   "source": [
    "Using ``record_as`` is a practical way of annotating records just before executing, \n",
    "independently of an earlier function definition. \n",
    "This works with functions and generators as well."
   ]
  },
  {
   "cell_type": "code",
   "execution_count": 21,
   "metadata": {
    "Collapsed": "false"
   },
   "outputs": [
    {
     "data": {
      "text/plain": [
       "{'random_var': array([-0.13268483,  0.98189131,  0.36335112])}"
      ]
     },
     "execution_count": 21,
     "metadata": {},
     "output_type": "execute_result"
    }
   ],
   "source": [
    "def get_some_data(n):\n",
    "    return np.random.normal(size=n)\n",
    "\n",
    "record_as(get_some_data, ds('random_var'))(3)"
   ]
  },
  {
   "cell_type": "markdown",
   "metadata": {},
   "source": [
    "record also provides a simple short hand for labelling regular iterables and iterators:\n",
    "it automatically removes surplus values, and always returns values for all specified data, \n",
    "even if the annotated object does not return in (missing values will be ``None``)"
   ]
  },
  {
   "cell_type": "code",
   "execution_count": 22,
   "metadata": {
    "Collapsed": "false"
   },
   "outputs": [
    {
     "name": "stdout",
     "output_type": "stream",
     "text": [
      "{'x': 0.0}\n",
      "{'x': 0.2}\n",
      "{'x': 0.4}\n",
      "{'x': 0.6000000000000001}\n",
      "{'x': 0.8}\n",
      "{'x': 1.0}\n",
      "{'x': 0.0, 'y': 0}\n",
      "{'x': 0.2, 'y': 1}\n",
      "{'x': 0.4, 'y': 2}\n",
      "{'x': 0.6000000000000001, 'y': 3}\n",
      "{'x': 0.8, 'y': 4}\n",
      "{'x': 1.0, 'y': 5}\n",
      "{'x': 0.0, 'y': None}\n",
      "{'x': 0.2, 'y': None}\n",
      "{'x': 0.4, 'y': None}\n",
      "{'x': 0.6000000000000001, 'y': None}\n",
      "{'x': 0.8, 'y': None}\n",
      "{'x': 1.0, 'y': None}\n"
     ]
    }
   ],
   "source": [
    "for data in record_as(zip(np.linspace(0,1,6), np.arange(6)), ds('x')):\n",
    "    print(data)\n",
    "    \n",
    "for data in record_as(zip(np.linspace(0,1,6), np.arange(6)), ds('x'), ds('y')):\n",
    "    print(data)\n",
    "    \n",
    "for data in record_as(np.linspace(0,1,6), ds('x'), ds('y')):\n",
    "    print(data)"
   ]
  },
  {
   "cell_type": "markdown",
   "metadata": {
    "Collapsed": "false"
   },
   "source": [
    "## Passing parameters in a sweep"
   ]
  },
  {
   "cell_type": "markdown",
   "metadata": {},
   "source": [
    "Everything that is generated by functions (or pointers and sweeps) can in principle be passed on to subsequently executed elements. \n",
    "\n",
    "When there's no record annotations arguments may still be passed as positional arguments:"
   ]
  },
  {
   "cell_type": "code",
   "execution_count": 23,
   "metadata": {},
   "outputs": [
    {
     "name": "stdout",
     "output_type": "stream",
     "text": [
      "(0,) {}\n",
      "{}\n",
      "(1,) {}\n",
      "{}\n",
      "(2,) {}\n",
      "{}\n"
     ]
    }
   ],
   "source": [
    "def test(*args, **kwargs):\n",
    "    print(args, kwargs)\n",
    "    return 100\n",
    "    \n",
    "for data in Sweep(range(3), test):\n",
    "    print(data)"
   ]
  },
  {
   "cell_type": "markdown",
   "metadata": {},
   "source": [
    "Because it would get too confusing otherwise, positional arguments only get passed originating from a pointer to all actions in a single sweep. In the following example the two ``test`` functions in the first sweep are passed the same integer, whereas the function in the second sweep is only receiving (``x``, ``True``) or (``y``, ``False``). Note that the return of ``test`` is not passed to any other object."
   ]
  },
  {
   "cell_type": "code",
   "execution_count": 24,
   "metadata": {},
   "outputs": [
    {
     "name": "stdout",
     "output_type": "stream",
     "text": [
      "(0,) {}\n",
      "(0,) {}\n",
      "('x', True) {}\n",
      "{}\n",
      "(1,) {}\n",
      "(1,) {}\n",
      "('y', False) {}\n",
      "{}\n",
      "(2,) {}\n",
      "(2,) {}\n"
     ]
    }
   ],
   "source": [
    "for data in Sweep(range(3), test, test) * Sweep(zip(['x', 'y'], [True, False]), test):\n",
    "    print(data)"
   ]
  },
  {
   "cell_type": "markdown",
   "metadata": {},
   "source": [
    "In the previous example, ``test`` received any arguments passed to it because its signature included variational positional arguments (``*args``). The situation changes when this is not the case. The function is receiving only arguments that it can accept."
   ]
  },
  {
   "cell_type": "code",
   "execution_count": 25,
   "metadata": {},
   "outputs": [
    {
     "name": "stdout",
     "output_type": "stream",
     "text": [
      "1\n",
      "2\n"
     ]
    }
   ],
   "source": [
    "def test_2(x=2):\n",
    "    print(x)\n",
    "    return True\n",
    "\n",
    "for data in Sweep(zip([1,2], [3,4]), test_2):\n",
    "    pass"
   ]
  },
  {
   "cell_type": "markdown",
   "metadata": {},
   "source": [
    "We are more flexible when we use keyword arguments. Here, the rule is:\n",
    "\n",
    "1. All records produced are passed to all subsequent functions in the sweep (even across different sub-sweeps!) that accept the keyword. \n",
    "2. If a pointer yields non-annotated values, these are still used as positional arguments, but only where accepted, and with higher priority given to keywords. \n",
    "3. using ``lambda`` and ``record_as`` allow pretty simple translation of records and argument names to avoid conflicts.\n",
    "4. some elementary control over passing behavior is provided by ``Sweep.pass_on_returns`` and ``Sweep.pass_on_none``.\n",
    "    1. ``Sweep.pass_on_returns`` defaults to ``True``. If set to ``False``, nothing will be passed on.\n",
    "    2. ``Sweep.pass_on_none`` defaults to ``False``. If set to ``False`` the behavior is such that records that are ``None`` will not be passed on further. (Because ``None`` is typically indicating that function did not return anything as data even though a record was declard using ``recording`` or ``record_as``).\n",
    "    3. Note: At the moment we can set those only globally using the class attribute; a likely update in the future.\n",
    "\n",
    "Some examples:"
   ]
  },
  {
   "cell_type": "code",
   "execution_count": 26,
   "metadata": {},
   "outputs": [
    {
     "name": "stdout",
     "output_type": "stream",
     "text": [
      "my three arguments: 0 None 5\n",
      "data: {'x': 0}\n",
      "my three arguments: 1 None 5\n",
      "data: {'x': 1}\n",
      "my three arguments: 2 None 5\n",
      "data: {'x': 2}\n",
      "\n",
      "my three arguments: None 0 5\n",
      "arguments at the end of the line: () {'y': 0, 'yy': 0, 'zz': 5}\n",
      "data: {'y': 0, 'xx': None, 'yy': 0, 'zz': 5}\n",
      "my three arguments: None 1 5\n",
      "arguments at the end of the line: () {'y': 1, 'yy': 1, 'zz': 5}\n",
      "data: {'y': 1, 'xx': None, 'yy': 1, 'zz': 5}\n",
      "my three arguments: None 2 5\n",
      "arguments at the end of the line: () {'y': 2, 'yy': 2, 'zz': 5}\n",
      "data: {'y': 2, 'xx': None, 'yy': 2, 'zz': 5}\n",
      "\n",
      "my three arguments: None 0 5\n",
      "my three arguments: None 0 5\n",
      "arguments at the end of the line: () {'y': 0, 'yy': 0, 'zz': 5, 'different': 0, 'names': 5}\n",
      "data: {'y': 0, 'xx': None, 'yy': 0, 'zz': 5, 'some': None, 'different': 0, 'names': 5}\n",
      "my three arguments: None 1 5\n",
      "my three arguments: None 1 5\n",
      "arguments at the end of the line: () {'y': 1, 'yy': 1, 'zz': 5, 'different': 1, 'names': 5}\n",
      "data: {'y': 1, 'xx': None, 'yy': 1, 'zz': 5, 'some': None, 'different': 1, 'names': 5}\n",
      "my three arguments: None 2 5\n",
      "my three arguments: None 2 5\n",
      "arguments at the end of the line: () {'y': 2, 'yy': 2, 'zz': 5, 'different': 2, 'names': 5}\n",
      "data: {'y': 2, 'xx': None, 'yy': 2, 'zz': 5, 'some': None, 'different': 2, 'names': 5}\n",
      "arguments at the end of the line: () {'y': 2, 'yy': 2, 'zz': 5, 'different': 2, 'names': 5}\n",
      "data: {'y': None, 'xx': None, 'yy': None, 'zz': None, 'some': None, 'different': None, 'names': None}\n"
     ]
    }
   ],
   "source": [
    "def test(x, y, z=5):\n",
    "    print(\"my three arguments:\", x, y, z)\n",
    "    return x, y, z\n",
    "\n",
    "def print_all_args(*args, **kwargs):\n",
    "    print(\"arguments at the end of the line:\", args, kwargs)\n",
    "    \n",
    "    \n",
    "for data in sweep_parameter('x', range(3), test):\n",
    "    print(\"data:\", data)\n",
    "    \n",
    "print()\n",
    "sweep = (\n",
    "    sweep_parameter('y', range(3), record_as(test, dependent('xx'), dependent('yy'), dependent('zz')))\n",
    "    @ print_all_args\n",
    ")\n",
    "for data in sweep:\n",
    "    print(\"data:\", data)\n",
    "    \n",
    "print()\n",
    "sweep = (\n",
    "    sweep_parameter('y', range(3), record_as(test, dependent('xx'), dependent('yy'), dependent('zz')))\n",
    "    @ record_as(lambda xx, yy, zz: test(xx, yy, zz), dependent('some'), dependent('different'), dependent('names'))\n",
    "    @ print_all_args\n",
    "    + print_all_args\n",
    ")\n",
    "for data in sweep:\n",
    "    print(\"data:\", data)"
   ]
  },
  {
   "cell_type": "code",
   "execution_count": 27,
   "metadata": {},
   "outputs": [
    {
     "name": "stdout",
     "output_type": "stream",
     "text": [
      "my three arguments: None None 5\n",
      "arguments at the end of the line: () {}\n",
      "data: {'y': 0, 'xx': None, 'yy': None, 'zz': 5}\n",
      "my three arguments: None None 5\n",
      "arguments at the end of the line: () {}\n",
      "data: {'y': 1, 'xx': None, 'yy': None, 'zz': 5}\n",
      "my three arguments: None None 5\n",
      "arguments at the end of the line: () {}\n",
      "data: {'y': 2, 'xx': None, 'yy': None, 'zz': 5}\n"
     ]
    }
   ],
   "source": [
    "Sweep.pass_on_returns = False\n",
    "\n",
    "sweep = (\n",
    "    sweep_parameter('y', range(3), record_as(test, dependent('xx'), dependent('yy'), dependent('zz')))\n",
    "    @ print_all_args\n",
    ")\n",
    "for data in sweep:\n",
    "    print(\"data:\", data)\n",
    "\n",
    "# setting back to default\n",
    "Sweep.pass_on_returns = True"
   ]
  },
  {
   "cell_type": "code",
   "execution_count": 28,
   "metadata": {},
   "outputs": [
    {
     "name": "stdout",
     "output_type": "stream",
     "text": [
      "my three arguments: None 0 5\n",
      "arguments at the end of the line: (None,) {'y': 0, 'xx': None, 'yy': 0, 'zz': 5}\n",
      "data: {'y': 0, 'xx': None, 'yy': 0, 'zz': 5}\n",
      "my three arguments: None 1 5\n",
      "arguments at the end of the line: (None,) {'y': 1, 'xx': None, 'yy': 1, 'zz': 5}\n",
      "data: {'y': 1, 'xx': None, 'yy': 1, 'zz': 5}\n",
      "my three arguments: None 2 5\n",
      "arguments at the end of the line: (None,) {'y': 2, 'xx': None, 'yy': 2, 'zz': 5}\n",
      "data: {'y': 2, 'xx': None, 'yy': 2, 'zz': 5}\n"
     ]
    }
   ],
   "source": [
    "Sweep.pass_on_none = True\n",
    "\n",
    "sweep = (\n",
    "    sweep_parameter('y', range(3), record_as(test, dependent('xx'), dependent('yy'), dependent('zz')))\n",
    "    @ print_all_args\n",
    ")\n",
    "\n",
    "for data in sweep:\n",
    "    print(\"data:\", data)\n",
    "    \n",
    "# setting back to default\n",
    "Sweep.pass_on_none = False"
   ]
  },
  {
   "cell_type": "code",
   "execution_count": null,
   "metadata": {},
   "outputs": [],
   "source": []
  }
 ],
 "metadata": {
  "kernelspec": {
   "display_name": "Python 3 (ipykernel)",
   "language": "python",
   "name": "python3"
  },
  "language_info": {
   "codemirror_mode": {
    "name": "ipython",
    "version": 3
   },
   "file_extension": ".py",
   "mimetype": "text/x-python",
   "name": "python",
   "nbconvert_exporter": "python",
   "pygments_lexer": "ipython3",
   "version": "3.10.13"
  },
  "toc-autonumbering": true,
  "toc-showcode": false,
  "toc-showmarkdowntxt": false
 },
 "nbformat": 4,
 "nbformat_minor": 4
}
